{
 "cells": [
  {
   "cell_type": "code",
   "execution_count": 2,
   "id": "c1717498-cc43-4a92-b70b-3a96b440fcc3",
   "metadata": {},
   "outputs": [
    {
     "data": {
      "application/vnd.jupyter.widget-view+json": {
       "model_id": "4beef1bd51834140bf55f609e0dd304e",
       "version_major": 2,
       "version_minor": 0
      },
      "text/plain": [
       "VBox(children=(IntSlider(value=0, description='Value:'), Button(description='Say hello', style=ButtonStyle()),…"
      ]
     },
     "metadata": {},
     "output_type": "display_data"
    }
   ],
   "source": [
    "# test.ipynb\n",
    "import ipywidgets as widgets\n",
    "from IPython.display import display\n",
    "\n",
    "slider = widgets.IntSlider(description='Value:')\n",
    "button = widgets.Button(description='Say hello')\n",
    "\n",
    "output = widgets.Output()\n",
    "\n",
    "def on_click(b):\n",
    "    with output:\n",
    "        output.clear_output()\n",
    "        print(f\"Hello! Slider value is {slider.value}\")\n",
    "\n",
    "button.on_click(on_click)\n",
    "\n",
    "display(widgets.VBox([slider, button, output]))\n"
   ]
  },
  {
   "cell_type": "code",
   "execution_count": null,
   "id": "db43f857-1cda-4955-ad78-ff68505a8c31",
   "metadata": {},
   "outputs": [],
   "source": []
  }
 ],
 "metadata": {
  "kernelspec": {
   "display_name": "Python 3 (ipykernel)",
   "language": "python",
   "name": "python3"
  },
  "language_info": {
   "codemirror_mode": {
    "name": "ipython",
    "version": 3
   },
   "file_extension": ".py",
   "mimetype": "text/x-python",
   "name": "python",
   "nbconvert_exporter": "python",
   "pygments_lexer": "ipython3",
   "version": "3.13.4"
  }
 },
 "nbformat": 4,
 "nbformat_minor": 5
}
